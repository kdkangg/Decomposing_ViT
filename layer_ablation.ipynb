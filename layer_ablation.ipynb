{
 "cells": [
  {
   "cell_type": "code",
   "execution_count": 1,
   "metadata": {},
   "outputs": [
    {
     "name": "stderr",
     "output_type": "stream",
     "text": [
      "2024-01-24 21:44:33.727399: E external/local_xla/xla/stream_executor/cuda/cuda_dnn.cc:9261] Unable to register cuDNN factory: Attempting to register factory for plugin cuDNN when one has already been registered\n",
      "2024-01-24 21:44:33.727455: E external/local_xla/xla/stream_executor/cuda/cuda_fft.cc:607] Unable to register cuFFT factory: Attempting to register factory for plugin cuFFT when one has already been registered\n",
      "2024-01-24 21:44:33.729287: E external/local_xla/xla/stream_executor/cuda/cuda_blas.cc:1515] Unable to register cuBLAS factory: Attempting to register factory for plugin cuBLAS when one has already been registered\n",
      "2024-01-24 21:44:45.490017: W tensorflow/compiler/tf2tensorrt/utils/py_utils.cc:38] TF-TRT Warning: Could not find TensorRT\n"
     ]
    }
   ],
   "source": [
    "import torch.nn as nn\n",
    "import torch\n",
    "from torch.utils.data import DataLoader, Dataset\n",
    "from datasets import load_dataset\n",
    "\n",
    "from transformers import ViTForImageClassification, ViTFeatureExtractor\n",
    "import torchvision.transforms as transforms\n",
    "import numpy as np\n",
    "from copy import deepcopy"
   ]
  },
  {
   "cell_type": "markdown",
   "metadata": {},
   "source": [
    "# cifarx10 vitb"
   ]
  },
  {
   "cell_type": "code",
   "execution_count": 2,
   "metadata": {},
   "outputs": [
    {
     "name": "stderr",
     "output_type": "stream",
     "text": [
      "/ceph/kikang/miniconda3/envs/interp/lib/python3.11/site-packages/transformers/models/vit/feature_extraction_vit.py:28: FutureWarning: The class ViTFeatureExtractor is deprecated and will be removed in version 5 of Transformers. Please use ViTImageProcessor instead.\n",
      "  warnings.warn(\n"
     ]
    }
   ],
   "source": [
    "device = torch.device('cuda' if torch.cuda.is_available() else 'cpu')\n",
    "vit_model = 'nateraw/vit-base-patch16-224-cifar10'\n",
    "model = ViTForImageClassification.from_pretrained(vit_model, output_hidden_states=True).to(device)\n",
    "model.eval()\n",
    "feature_extractor = ViTFeatureExtractor.from_pretrained(vit_model)\n",
    "to_tensor = transforms.ToTensor()"
   ]
  },
  {
   "cell_type": "code",
   "execution_count": 3,
   "metadata": {},
   "outputs": [],
   "source": [
    "# Load the CIFAR-10 dataset\n",
    "dataset = load_dataset('cifar10', split='test')\n",
    "\n",
    "class CIFAR10HFDataset(Dataset):\n",
    "    def __init__(self, hf_dataset, feature_extractor):\n",
    "        self.hf_dataset = hf_dataset\n",
    "        self.feature_extractor = feature_extractor\n",
    "\n",
    "    def __len__(self):\n",
    "        return len(self.hf_dataset)\n",
    "\n",
    "    def __getitem__(self, idx):\n",
    "        # Extract image and label from the dataset\n",
    "        image = self.hf_dataset[idx]['img']\n",
    "        label = self.hf_dataset[idx]['label']\n",
    "\n",
    "        # Preprocess the image\n",
    "        inputs = self.feature_extractor(images=image, return_tensors='pt')\n",
    "        image = to_tensor(image)\n",
    "\n",
    "        # Remove the batch dimension\n",
    "        pixel_values = inputs['pixel_values'].squeeze()\n",
    "\n",
    "        return image, pixel_values, label\n",
    "\n",
    "cifar_data = CIFAR10HFDataset(dataset, feature_extractor)\n",
    "dataloader = DataLoader(cifar_data, batch_size=32, shuffle=False)"
   ]
  },
  {
   "cell_type": "code",
   "execution_count": 4,
   "metadata": {},
   "outputs": [
    {
     "name": "stdout",
     "output_type": "stream",
     "text": [
      "Accuracy: 0.9852\n"
     ]
    }
   ],
   "source": [
    "\n",
    "# Create empty lists to store the predicted labels and true labels\n",
    "predicted_labels = []\n",
    "true_labels = []\n",
    "\n",
    "# Iterate over the batches in the DataLoader\n",
    "for i, (images, inputs, labels) in enumerate(dataloader):\n",
    "    inputs = inputs.to(device)\n",
    "    labels = labels.to(device)\n",
    "    # Forward pass through the model\n",
    "    with torch.no_grad():\n",
    "        outputs = model(inputs, labels=labels)\n",
    "\n",
    "    # Get the predicted labels from the model outputs\n",
    "    _, predicted = torch.max(outputs.logits, dim=1)\n",
    "\n",
    "    # Append the predicted labels and true labels to the lists\n",
    "    predicted_labels.extend(predicted.cpu().numpy())\n",
    "    true_labels.extend(labels.cpu().numpy())\n",
    "\n",
    "# Convert the lists to numpy arrays\n",
    "predicted_labels = np.array(predicted_labels)\n",
    "true_labels = np.array(true_labels)\n",
    "\n",
    "# Print the accuracy of the model\n",
    "accuracy = np.mean(predicted_labels == true_labels)\n",
    "print(f\"Accuracy: {accuracy}\")\n"
   ]
  },
  {
   "cell_type": "code",
   "execution_count": 5,
   "metadata": {},
   "outputs": [],
   "source": [
    "# front layers: 0, 1, 2, 3, 4\n",
    "# mid layers: 5, 6, 7, 8, 9\n",
    "# back layers: 10, 11, 12"
   ]
  },
  {
   "cell_type": "markdown",
   "metadata": {},
   "source": [
    "## Layer ablation"
   ]
  },
  {
   "cell_type": "code",
   "execution_count": 6,
   "metadata": {},
   "outputs": [],
   "source": [
    "# exclude layer \n",
    "def layer_ablation(model, num_layers: List or Int): \n",
    "    new_model = deepcopy(model)\n",
    "    new_ModuleList = nn.ModuleList()\n",
    "    \n",
    "    if isinstance(num_layers, int):\n",
    "        num_layers = [num_layers]\n",
    "    \n",
    "    for i in range(0,12):\n",
    "        if i not in num_layers:\n",
    "            new_ModuleList.append(new_model.vit.encoder.layer[i])\n",
    "\n",
    "    new_model.vit.encoder.layer = new_ModuleList\n",
    "    \n",
    "    new_model.eval()\n",
    "\n",
    "    # Create empty lists to store the predicted labels and true labels\n",
    "    predicted_labels = []\n",
    "    true_labels = []\n",
    "\n",
    "    # Iterate over the batches in the DataLoader\n",
    "    for i, (images, inputs, labels) in enumerate(dataloader):\n",
    "        inputs = inputs.to(device)\n",
    "        labels = labels.to(device)\n",
    "        # Forward pass through the model\n",
    "        with torch.no_grad():\n",
    "            outputs = new_model(inputs, labels=labels)\n",
    "\n",
    "        # Get the predicted labels from the model outputs\n",
    "        _, predicted = torch.max(outputs.logits, dim=1)\n",
    "\n",
    "        # Append the predicted labels and true labels to the lists\n",
    "        predicted_labels.extend(predicted.cpu().numpy())\n",
    "        true_labels.extend(labels.cpu().numpy())\n",
    "\n",
    "    # Convert the lists to numpy arrays\n",
    "    predicted_labels = np.array(predicted_labels)\n",
    "    true_labels = np.array(true_labels)\n",
    "\n",
    "    # Print the accuracy of the model\n",
    "    accuracy = np.mean(predicted_labels == true_labels)\n",
    "    print(f\"Accuracy: {accuracy}\")\n",
    "    return accuracy"
   ]
  },
  {
   "cell_type": "code",
   "execution_count": 7,
   "metadata": {},
   "outputs": [
    {
     "name": "stdout",
     "output_type": "stream",
     "text": [
      "Ablation layer 0\n",
      "Accuracy: 0.1093\n",
      "Ablation layer 1\n",
      "Accuracy: 0.8456\n",
      "Ablation layer 2\n",
      "Accuracy: 0.9522\n",
      "Ablation layer 3\n",
      "Accuracy: 0.9584\n",
      "Ablation layer 4\n",
      "Accuracy: 0.9672\n",
      "Ablation layer 5\n",
      "Accuracy: 0.9689\n",
      "Ablation layer 6\n",
      "Accuracy: 0.9747\n",
      "Ablation layer 7\n",
      "Accuracy: 0.973\n",
      "Ablation layer 8\n",
      "Accuracy: 0.968\n",
      "Ablation layer 9\n",
      "Accuracy: 0.9581\n",
      "Ablation layer 10\n",
      "Accuracy: 0.9799\n",
      "Ablation layer 11\n",
      "Accuracy: 0.9629\n"
     ]
    }
   ],
   "source": [
    "for i in range(0,12):\n",
    "    print(f'Ablation layer {i}')\n",
    "    layer_ablation(model, i)"
   ]
  },
  {
   "cell_type": "code",
   "execution_count": 8,
   "metadata": {},
   "outputs": [
    {
     "name": "stdout",
     "output_type": "stream",
     "text": [
      "exclude layer 2,3\n"
     ]
    },
    {
     "name": "stdout",
     "output_type": "stream",
     "text": [
      "Accuracy: 0.7193\n",
      "exclude layer 3,4\n",
      "Accuracy: 0.8375\n"
     ]
    },
    {
     "data": {
      "text/plain": [
       "0.8375"
      ]
     },
     "execution_count": 8,
     "metadata": {},
     "output_type": "execute_result"
    }
   ],
   "source": [
    "print('exclude layer 2,3')\n",
    "layer_ablation(model, [2,3])\n",
    "\n",
    "print('exclude layer 3,4')\n",
    "layer_ablation(model, [3,4])"
   ]
  },
  {
   "cell_type": "code",
   "execution_count": 9,
   "metadata": {},
   "outputs": [
    {
     "name": "stdout",
     "output_type": "stream",
     "text": [
      "exclude layer 7,8\n",
      "Accuracy: 0.9011\n",
      "exclude layer 8,9\n",
      "Accuracy: 0.7105\n",
      "exclude layer 9,10\n",
      "Accuracy: 0.8915\n"
     ]
    },
    {
     "data": {
      "text/plain": [
       "0.8915"
      ]
     },
     "execution_count": 9,
     "metadata": {},
     "output_type": "execute_result"
    }
   ],
   "source": [
    "print('exclude layer 7,8')\n",
    "layer_ablation(model, [7,8])\n",
    "\n",
    "print('exclude layer 8,9')\n",
    "layer_ablation(model, [8,9])\n",
    "\n",
    "print('exclude layer 9,10')\n",
    "layer_ablation(model, [9,10])"
   ]
  }
 ],
 "metadata": {
  "kernelspec": {
   "display_name": "Python 3 (ipykernel)",
   "language": "python",
   "name": "python3"
  },
  "language_info": {
   "codemirror_mode": {
    "name": "ipython",
    "version": 3
   },
   "file_extension": ".py",
   "mimetype": "text/x-python",
   "name": "python",
   "nbconvert_exporter": "python",
   "pygments_lexer": "ipython3",
   "version": "3.11.5"
  }
 },
 "nbformat": 4,
 "nbformat_minor": 2
}
